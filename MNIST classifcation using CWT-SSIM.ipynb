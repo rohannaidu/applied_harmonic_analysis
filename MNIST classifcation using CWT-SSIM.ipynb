{
 "cells": [
  {
   "cell_type": "markdown",
   "metadata": {},
   "source": [
    "Using CWT-SSIM, we explore an interesting approach to classification, very different from everything we have seen till this point."
   ]
  },
  {
   "cell_type": "code",
   "execution_count": 1,
   "metadata": {
    "collapsed": true
   },
   "outputs": [],
   "source": [
    "from __future__ import division\n",
    "%matplotlib inline\n",
    "import numpy as np\n",
    "import matplotlib.pyplot as plt\n",
    "from PIL import Image, ImageOps\n",
    "from ssim import SSIM\n",
    "from ssim.utils import get_gaussian_kernel\n",
    "from sklearn import datasets, svm, metrics, decomposition\n",
    "import pandas as pd\n",
    "digits = datasets.load_digits()\n",
    "import math\n",
    "from math import *\n",
    "from __future__ import division\n",
    "import sklearn\n",
    "from sklearn.tree import DecisionTreeClassifier\n",
    "import pywt\n",
    "import seaborn as sns\n",
    "sns.set()\n",
    "from matplotlib import cm\n",
    "\n",
    "from sklearn.model_selection import train_test_split\n",
    "\n",
    "n_samples = len(digits.images)\n",
    "data = digits.images.reshape((n_samples, -1))"
   ]
  },
  {
   "cell_type": "code",
   "execution_count": 2,
   "metadata": {
    "collapsed": false
   },
   "outputs": [],
   "source": [
    "#image_transform = [Image.fromarray(im.reshape(8,8)/np.max(im)) for im in data]\n",
    "image_reshape = [im.reshape(8,8)/(np.max(im)) for im in data]\n",
    "\n",
    "image_transform = [ImageOps.grayscale(Image.fromarray(np.uint8(cm.Greys_r(myarray)*255))) for myarray in image_reshape]"
   ]
  },
  {
   "cell_type": "code",
   "execution_count": 117,
   "metadata": {
    "collapsed": false
   },
   "outputs": [
    {
     "data": {
      "text/plain": [
       "0.95470980114388304"
      ]
     },
     "execution_count": 117,
     "metadata": {},
     "output_type": "execute_result"
    }
   ],
   "source": [
    "SSIM( image_transform[8]) .cw_ssim_value(image_transform[9]) #just checking if sufficient \"difference\" exists between classes"
   ]
  },
  {
   "cell_type": "markdown",
   "metadata": {},
   "source": [
    "<b>Idea 1</b> Let's procede naively. Set aside the first 10 images, and then calculate CWT-SSIM using those 10 as the \"template\"."
   ]
  },
  {
   "cell_type": "code",
   "execution_count": 118,
   "metadata": {
    "collapsed": false
   },
   "outputs": [
    {
     "data": {
      "text/plain": [
       "array([0, 1, 2, 3, 4, 5, 6, 7, 8, 9])"
      ]
     },
     "execution_count": 118,
     "metadata": {},
     "output_type": "execute_result"
    }
   ],
   "source": [
    "digits.target[0:10]"
   ]
  },
  {
   "cell_type": "code",
   "execution_count": 119,
   "metadata": {
    "collapsed": true
   },
   "outputs": [],
   "source": [
    "ssim_vals_result = []\n",
    "for classless_image in image_transform[10::]:\n",
    "    ssim_vals = []\n",
    "    for classed_image in image_transform[0:10]:\n",
    "        ssim_vals.append(SSIM(classed_image).cw_ssim_value(classless_image))\n",
    "    ssim_vals_result.append(ssim_vals)"
   ]
  },
  {
   "cell_type": "code",
   "execution_count": 120,
   "metadata": {
    "collapsed": false
   },
   "outputs": [
    {
     "data": {
      "text/plain": [
       "((1787L, 10L), 1797)"
      ]
     },
     "execution_count": 120,
     "metadata": {},
     "output_type": "execute_result"
    }
   ],
   "source": [
    "np.array(ssim_vals_result).shape, len(data)"
   ]
  },
  {
   "cell_type": "code",
   "execution_count": 121,
   "metadata": {
    "collapsed": false
   },
   "outputs": [],
   "source": [
    "labels_actual = digits.target[10::]\n",
    "labels_predicted = np.array([np.argmax(x) for x in ssim_vals_result])"
   ]
  },
  {
   "cell_type": "code",
   "execution_count": 122,
   "metadata": {
    "collapsed": false
   },
   "outputs": [
    {
     "data": {
      "text/plain": [
       "0.49524342473419136"
      ]
     },
     "execution_count": 122,
     "metadata": {},
     "output_type": "execute_result"
    }
   ],
   "source": [
    "np.count_nonzero(labels_actual==labels_predicted)/len(labels_actual)"
   ]
  },
  {
   "cell_type": "markdown",
   "metadata": {},
   "source": [
    "Hmm. That may have been a little too naive.\n",
    "How about running a \"closest match\" in a test set, based on the train set?"
   ]
  },
  {
   "cell_type": "code",
   "execution_count": 3,
   "metadata": {
    "collapsed": false
   },
   "outputs": [],
   "source": [
    "X_train, X_test, y_train, y_test = train_test_split(image_transform, digits.target, test_size=0.33, random_state=42)"
   ]
  },
  {
   "cell_type": "code",
   "execution_count": 10,
   "metadata": {
    "collapsed": false
   },
   "outputs": [
    {
     "data": {
      "text/plain": [
       "array([1, 1, 2, 3, 4])"
      ]
     },
     "execution_count": 10,
     "metadata": {},
     "output_type": "execute_result"
    }
   ],
   "source": [
    "np.append(1, [1,2,3,4])"
   ]
  },
  {
   "cell_type": "code",
   "execution_count": null,
   "metadata": {
    "collapsed": false
   },
   "outputs": [
    {
     "name": "stdout",
     "output_type": "stream",
     "text": [
      "current accuracy (1 images): 1.00\n",
      "current accuracy (11 images): 0.91\n",
      "current accuracy (21 images): 0.95\n",
      "current accuracy (31 images): 0.97\n",
      "current accuracy (41 images): 0.98\n",
      "current accuracy (51 images): 0.94\n",
      "current accuracy (61 images): 0.95\n",
      "current accuracy (71 images): 0.96\n",
      "current accuracy (81 images): 0.95\n",
      "current accuracy (91 images): 0.95\n",
      "current accuracy (101 images): 0.94\n",
      "current accuracy (111 images): 0.95\n",
      "current accuracy (121 images): 0.94\n",
      "current accuracy (131 images): 0.95\n",
      "current accuracy (141 images): 0.95\n",
      "current accuracy (151 images): 0.95\n",
      "current accuracy (161 images): 0.96\n",
      "current accuracy (171 images): 0.95\n",
      "current accuracy (181 images): 0.96\n",
      "current accuracy (191 images): 0.96\n",
      "current accuracy (201 images): 0.95\n",
      "current accuracy (211 images): 0.95\n",
      "current accuracy (221 images): 0.95\n",
      "current accuracy (231 images): 0.96\n",
      "current accuracy (241 images): 0.95\n",
      "current accuracy (251 images): 0.95\n",
      "current accuracy (261 images): 0.95\n",
      "current accuracy (271 images): 0.95\n",
      "current accuracy (281 images): 0.95\n",
      "current accuracy (291 images): 0.95\n",
      "current accuracy (301 images): 0.94\n",
      "current accuracy (311 images): 0.95\n",
      "current accuracy (321 images): 0.95\n",
      "current accuracy (331 images): 0.95\n",
      "current accuracy (341 images): 0.95\n",
      "current accuracy (351 images): 0.94\n",
      "current accuracy (361 images): 0.94\n",
      "current accuracy (371 images): 0.94\n"
     ]
    }
   ],
   "source": [
    "#this takes forever to run---don't try.\n",
    "# I have a parallel version that works really well that I've given out as a .py script\n",
    "\n",
    "predicted_class = []\n",
    "\n",
    "for im_1, indx in zip(X_test, range(len(X_test))):\n",
    "\n",
    "    ssim_master = np.array([])\n",
    "    \n",
    "    for im_2 in X_train:\n",
    "        ssim_master = np.append(ssim_master, SSIM(im_1).cw_ssim_value(im_2))\n",
    "    \n",
    "    predicted_class.append(y_train[np.argmax(ssim_master)])\n",
    "    \n",
    "    if indx%10==0:\n",
    "        print \"current accuracy (%s images): %.2f\"%(indx+1,  np.count_nonzero(y_test[0:indx+1]==np.array(predicted_class))/(indx+1))"
   ]
  },
  {
   "cell_type": "code",
   "execution_count": null,
   "metadata": {
    "collapsed": true
   },
   "outputs": [],
   "source": []
  }
 ],
 "metadata": {
  "kernelspec": {
   "display_name": "Python 2",
   "language": "python",
   "name": "python2"
  },
  "language_info": {
   "codemirror_mode": {
    "name": "ipython",
    "version": 2
   },
   "file_extension": ".py",
   "mimetype": "text/x-python",
   "name": "python",
   "nbconvert_exporter": "python",
   "pygments_lexer": "ipython2",
   "version": "2.7.11"
  }
 },
 "nbformat": 4,
 "nbformat_minor": 0
}
